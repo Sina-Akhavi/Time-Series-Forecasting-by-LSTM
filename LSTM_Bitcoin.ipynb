{
  "cells": [
    {
      "cell_type": "code",
      "execution_count": null,
      "metadata": {
        "colab": {
          "base_uri": "https://localhost:8080/"
        },
        "id": "IeqvlOL8OosM",
        "outputId": "1d8ea962-478f-462d-d1ba-dc628110921b"
      },
      "outputs": [
        {
          "name": "stdout",
          "output_type": "stream",
          "text": [
            "Hi\n"
          ]
        }
      ],
      "source": [
        "print(\"Hi\")"
      ]
    },
    {
      "cell_type": "code",
      "execution_count": null,
      "metadata": {
        "id": "Hq3hcVkJOqws"
      },
      "outputs": [],
      "source": [
        "import os\n",
        "import pandas as pd\n",
        "import numpy as np\n"
      ]
    },
    {
      "cell_type": "code",
      "execution_count": null,
      "metadata": {
        "colab": {
          "base_uri": "https://localhost:8080/"
        },
        "id": "AB9Sa1o1PrrN",
        "outputId": "45de5226-fb8b-4b73-9351-d21ef24e0fdc"
      },
      "outputs": [
        {
          "name": "stdout",
          "output_type": "stream",
          "text": [
            "/content/sample_data\n"
          ]
        }
      ],
      "source": [
        "!pwd"
      ]
    },
    {
      "cell_type": "code",
      "execution_count": null,
      "metadata": {
        "id": "oJnDFCeQPvoP"
      },
      "outputs": [],
      "source": [
        "import os\n",
        "# os.chdir('./sample_data')\n"
      ]
    },
    {
      "cell_type": "code",
      "execution_count": null,
      "metadata": {
        "colab": {
          "base_uri": "https://localhost:8080/",
          "height": 634
        },
        "id": "SjdkWR0fFtPW",
        "outputId": "fd48aad8-18ce-4f03-c027-39c61c5c5ffd"
      },
      "outputs": [
        {
          "data": {
            "text/html": [
              "\n",
              "  <div id=\"df-061b5fd5-1554-4e2c-b484-be40dd70a421\" class=\"colab-df-container\">\n",
              "    <div>\n",
              "<style scoped>\n",
              "    .dataframe tbody tr th:only-of-type {\n",
              "        vertical-align: middle;\n",
              "    }\n",
              "\n",
              "    .dataframe tbody tr th {\n",
              "        vertical-align: top;\n",
              "    }\n",
              "\n",
              "    .dataframe thead th {\n",
              "        text-align: right;\n",
              "    }\n",
              "</style>\n",
              "<table border=\"1\" class=\"dataframe\">\n",
              "  <thead>\n",
              "    <tr style=\"text-align: right;\">\n",
              "      <th></th>\n",
              "      <th>SNo</th>\n",
              "      <th>Name</th>\n",
              "      <th>Symbol</th>\n",
              "      <th>Date</th>\n",
              "      <th>High</th>\n",
              "      <th>Low</th>\n",
              "      <th>Open</th>\n",
              "      <th>Close</th>\n",
              "      <th>Volume</th>\n",
              "      <th>Marketcap</th>\n",
              "    </tr>\n",
              "  </thead>\n",
              "  <tbody>\n",
              "    <tr>\n",
              "      <th>0</th>\n",
              "      <td>1</td>\n",
              "      <td>Bitcoin</td>\n",
              "      <td>BTC</td>\n",
              "      <td>2013-04-29 23:59:59</td>\n",
              "      <td>147.488007</td>\n",
              "      <td>134.000000</td>\n",
              "      <td>134.444000</td>\n",
              "      <td>144.539993</td>\n",
              "      <td>0.0</td>\n",
              "      <td>1.603769e+09</td>\n",
              "    </tr>\n",
              "    <tr>\n",
              "      <th>1</th>\n",
              "      <td>2</td>\n",
              "      <td>Bitcoin</td>\n",
              "      <td>BTC</td>\n",
              "      <td>2013-04-30 23:59:59</td>\n",
              "      <td>146.929993</td>\n",
              "      <td>134.050003</td>\n",
              "      <td>144.000000</td>\n",
              "      <td>139.000000</td>\n",
              "      <td>0.0</td>\n",
              "      <td>1.542813e+09</td>\n",
              "    </tr>\n",
              "    <tr>\n",
              "      <th>2</th>\n",
              "      <td>3</td>\n",
              "      <td>Bitcoin</td>\n",
              "      <td>BTC</td>\n",
              "      <td>2013-05-01 23:59:59</td>\n",
              "      <td>139.889999</td>\n",
              "      <td>107.720001</td>\n",
              "      <td>139.000000</td>\n",
              "      <td>116.989998</td>\n",
              "      <td>0.0</td>\n",
              "      <td>1.298955e+09</td>\n",
              "    </tr>\n",
              "    <tr>\n",
              "      <th>3</th>\n",
              "      <td>4</td>\n",
              "      <td>Bitcoin</td>\n",
              "      <td>BTC</td>\n",
              "      <td>2013-05-02 23:59:59</td>\n",
              "      <td>125.599998</td>\n",
              "      <td>92.281898</td>\n",
              "      <td>116.379997</td>\n",
              "      <td>105.209999</td>\n",
              "      <td>0.0</td>\n",
              "      <td>1.168517e+09</td>\n",
              "    </tr>\n",
              "    <tr>\n",
              "      <th>4</th>\n",
              "      <td>5</td>\n",
              "      <td>Bitcoin</td>\n",
              "      <td>BTC</td>\n",
              "      <td>2013-05-03 23:59:59</td>\n",
              "      <td>108.127998</td>\n",
              "      <td>79.099998</td>\n",
              "      <td>106.250000</td>\n",
              "      <td>97.750000</td>\n",
              "      <td>0.0</td>\n",
              "      <td>1.085995e+09</td>\n",
              "    </tr>\n",
              "    <tr>\n",
              "      <th>5</th>\n",
              "      <td>6</td>\n",
              "      <td>Bitcoin</td>\n",
              "      <td>BTC</td>\n",
              "      <td>2013-05-04 23:59:59</td>\n",
              "      <td>115.000000</td>\n",
              "      <td>92.500000</td>\n",
              "      <td>98.099998</td>\n",
              "      <td>112.500000</td>\n",
              "      <td>0.0</td>\n",
              "      <td>1.250317e+09</td>\n",
              "    </tr>\n",
              "    <tr>\n",
              "      <th>6</th>\n",
              "      <td>7</td>\n",
              "      <td>Bitcoin</td>\n",
              "      <td>BTC</td>\n",
              "      <td>2013-05-05 23:59:59</td>\n",
              "      <td>118.800003</td>\n",
              "      <td>107.142998</td>\n",
              "      <td>112.900002</td>\n",
              "      <td>115.910004</td>\n",
              "      <td>0.0</td>\n",
              "      <td>1.288693e+09</td>\n",
              "    </tr>\n",
              "    <tr>\n",
              "      <th>7</th>\n",
              "      <td>8</td>\n",
              "      <td>Bitcoin</td>\n",
              "      <td>BTC</td>\n",
              "      <td>2013-05-06 23:59:59</td>\n",
              "      <td>124.663002</td>\n",
              "      <td>106.639999</td>\n",
              "      <td>115.980003</td>\n",
              "      <td>112.300003</td>\n",
              "      <td>0.0</td>\n",
              "      <td>1.249023e+09</td>\n",
              "    </tr>\n",
              "    <tr>\n",
              "      <th>8</th>\n",
              "      <td>9</td>\n",
              "      <td>Bitcoin</td>\n",
              "      <td>BTC</td>\n",
              "      <td>2013-05-07 23:59:59</td>\n",
              "      <td>113.444000</td>\n",
              "      <td>97.699997</td>\n",
              "      <td>112.250000</td>\n",
              "      <td>111.500000</td>\n",
              "      <td>0.0</td>\n",
              "      <td>1.240594e+09</td>\n",
              "    </tr>\n",
              "    <tr>\n",
              "      <th>9</th>\n",
              "      <td>10</td>\n",
              "      <td>Bitcoin</td>\n",
              "      <td>BTC</td>\n",
              "      <td>2013-05-08 23:59:59</td>\n",
              "      <td>115.779999</td>\n",
              "      <td>109.599998</td>\n",
              "      <td>109.599998</td>\n",
              "      <td>113.566002</td>\n",
              "      <td>0.0</td>\n",
              "      <td>1.264049e+09</td>\n",
              "    </tr>\n",
              "    <tr>\n",
              "      <th>10</th>\n",
              "      <td>11</td>\n",
              "      <td>Bitcoin</td>\n",
              "      <td>BTC</td>\n",
              "      <td>2013-05-09 23:59:59</td>\n",
              "      <td>113.459999</td>\n",
              "      <td>109.260002</td>\n",
              "      <td>113.199997</td>\n",
              "      <td>112.669998</td>\n",
              "      <td>0.0</td>\n",
              "      <td>1.254535e+09</td>\n",
              "    </tr>\n",
              "    <tr>\n",
              "      <th>11</th>\n",
              "      <td>12</td>\n",
              "      <td>Bitcoin</td>\n",
              "      <td>BTC</td>\n",
              "      <td>2013-05-10 23:59:59</td>\n",
              "      <td>122.000000</td>\n",
              "      <td>111.551003</td>\n",
              "      <td>112.799004</td>\n",
              "      <td>117.199997</td>\n",
              "      <td>0.0</td>\n",
              "      <td>1.305479e+09</td>\n",
              "    </tr>\n",
              "  </tbody>\n",
              "</table>\n",
              "</div>\n",
              "    <div class=\"colab-df-buttons\">\n",
              "\n",
              "  <div class=\"colab-df-container\">\n",
              "    <button class=\"colab-df-convert\" onclick=\"convertToInteractive('df-061b5fd5-1554-4e2c-b484-be40dd70a421')\"\n",
              "            title=\"Convert this dataframe to an interactive table.\"\n",
              "            style=\"display:none;\">\n",
              "\n",
              "  <svg xmlns=\"http://www.w3.org/2000/svg\" height=\"24px\" viewBox=\"0 -960 960 960\">\n",
              "    <path d=\"M120-120v-720h720v720H120Zm60-500h600v-160H180v160Zm220 220h160v-160H400v160Zm0 220h160v-160H400v160ZM180-400h160v-160H180v160Zm440 0h160v-160H620v160ZM180-180h160v-160H180v160Zm440 0h160v-160H620v160Z\"/>\n",
              "  </svg>\n",
              "    </button>\n",
              "\n",
              "  <style>\n",
              "    .colab-df-container {\n",
              "      display:flex;\n",
              "      gap: 12px;\n",
              "    }\n",
              "\n",
              "    .colab-df-convert {\n",
              "      background-color: #E8F0FE;\n",
              "      border: none;\n",
              "      border-radius: 50%;\n",
              "      cursor: pointer;\n",
              "      display: none;\n",
              "      fill: #1967D2;\n",
              "      height: 32px;\n",
              "      padding: 0 0 0 0;\n",
              "      width: 32px;\n",
              "    }\n",
              "\n",
              "    .colab-df-convert:hover {\n",
              "      background-color: #E2EBFA;\n",
              "      box-shadow: 0px 1px 2px rgba(60, 64, 67, 0.3), 0px 1px 3px 1px rgba(60, 64, 67, 0.15);\n",
              "      fill: #174EA6;\n",
              "    }\n",
              "\n",
              "    .colab-df-buttons div {\n",
              "      margin-bottom: 4px;\n",
              "    }\n",
              "\n",
              "    [theme=dark] .colab-df-convert {\n",
              "      background-color: #3B4455;\n",
              "      fill: #D2E3FC;\n",
              "    }\n",
              "\n",
              "    [theme=dark] .colab-df-convert:hover {\n",
              "      background-color: #434B5C;\n",
              "      box-shadow: 0px 1px 3px 1px rgba(0, 0, 0, 0.15);\n",
              "      filter: drop-shadow(0px 1px 2px rgba(0, 0, 0, 0.3));\n",
              "      fill: #FFFFFF;\n",
              "    }\n",
              "  </style>\n",
              "\n",
              "    <script>\n",
              "      const buttonEl =\n",
              "        document.querySelector('#df-061b5fd5-1554-4e2c-b484-be40dd70a421 button.colab-df-convert');\n",
              "      buttonEl.style.display =\n",
              "        google.colab.kernel.accessAllowed ? 'block' : 'none';\n",
              "\n",
              "      async function convertToInteractive(key) {\n",
              "        const element = document.querySelector('#df-061b5fd5-1554-4e2c-b484-be40dd70a421');\n",
              "        const dataTable =\n",
              "          await google.colab.kernel.invokeFunction('convertToInteractive',\n",
              "                                                    [key], {});\n",
              "        if (!dataTable) return;\n",
              "\n",
              "        const docLinkHtml = 'Like what you see? Visit the ' +\n",
              "          '<a target=\"_blank\" href=https://colab.research.google.com/notebooks/data_table.ipynb>data table notebook</a>'\n",
              "          + ' to learn more about interactive tables.';\n",
              "        element.innerHTML = '';\n",
              "        dataTable['output_type'] = 'display_data';\n",
              "        await google.colab.output.renderOutput(dataTable, element);\n",
              "        const docLink = document.createElement('div');\n",
              "        docLink.innerHTML = docLinkHtml;\n",
              "        element.appendChild(docLink);\n",
              "      }\n",
              "    </script>\n",
              "  </div>\n",
              "\n",
              "\n",
              "<div id=\"df-74f6e585-5620-4de0-ac72-66e5aa18c0d2\">\n",
              "  <button class=\"colab-df-quickchart\" onclick=\"quickchart('df-74f6e585-5620-4de0-ac72-66e5aa18c0d2')\"\n",
              "            title=\"Suggest charts\"\n",
              "            style=\"display:none;\">\n",
              "\n",
              "<svg xmlns=\"http://www.w3.org/2000/svg\" height=\"24px\"viewBox=\"0 0 24 24\"\n",
              "     width=\"24px\">\n",
              "    <g>\n",
              "        <path d=\"M19 3H5c-1.1 0-2 .9-2 2v14c0 1.1.9 2 2 2h14c1.1 0 2-.9 2-2V5c0-1.1-.9-2-2-2zM9 17H7v-7h2v7zm4 0h-2V7h2v10zm4 0h-2v-4h2v4z\"/>\n",
              "    </g>\n",
              "</svg>\n",
              "  </button>\n",
              "\n",
              "<style>\n",
              "  .colab-df-quickchart {\n",
              "      --bg-color: #E8F0FE;\n",
              "      --fill-color: #1967D2;\n",
              "      --hover-bg-color: #E2EBFA;\n",
              "      --hover-fill-color: #174EA6;\n",
              "      --disabled-fill-color: #AAA;\n",
              "      --disabled-bg-color: #DDD;\n",
              "  }\n",
              "\n",
              "  [theme=dark] .colab-df-quickchart {\n",
              "      --bg-color: #3B4455;\n",
              "      --fill-color: #D2E3FC;\n",
              "      --hover-bg-color: #434B5C;\n",
              "      --hover-fill-color: #FFFFFF;\n",
              "      --disabled-bg-color: #3B4455;\n",
              "      --disabled-fill-color: #666;\n",
              "  }\n",
              "\n",
              "  .colab-df-quickchart {\n",
              "    background-color: var(--bg-color);\n",
              "    border: none;\n",
              "    border-radius: 50%;\n",
              "    cursor: pointer;\n",
              "    display: none;\n",
              "    fill: var(--fill-color);\n",
              "    height: 32px;\n",
              "    padding: 0;\n",
              "    width: 32px;\n",
              "  }\n",
              "\n",
              "  .colab-df-quickchart:hover {\n",
              "    background-color: var(--hover-bg-color);\n",
              "    box-shadow: 0 1px 2px rgba(60, 64, 67, 0.3), 0 1px 3px 1px rgba(60, 64, 67, 0.15);\n",
              "    fill: var(--button-hover-fill-color);\n",
              "  }\n",
              "\n",
              "  .colab-df-quickchart-complete:disabled,\n",
              "  .colab-df-quickchart-complete:disabled:hover {\n",
              "    background-color: var(--disabled-bg-color);\n",
              "    fill: var(--disabled-fill-color);\n",
              "    box-shadow: none;\n",
              "  }\n",
              "\n",
              "  .colab-df-spinner {\n",
              "    border: 2px solid var(--fill-color);\n",
              "    border-color: transparent;\n",
              "    border-bottom-color: var(--fill-color);\n",
              "    animation:\n",
              "      spin 1s steps(1) infinite;\n",
              "  }\n",
              "\n",
              "  @keyframes spin {\n",
              "    0% {\n",
              "      border-color: transparent;\n",
              "      border-bottom-color: var(--fill-color);\n",
              "      border-left-color: var(--fill-color);\n",
              "    }\n",
              "    20% {\n",
              "      border-color: transparent;\n",
              "      border-left-color: var(--fill-color);\n",
              "      border-top-color: var(--fill-color);\n",
              "    }\n",
              "    30% {\n",
              "      border-color: transparent;\n",
              "      border-left-color: var(--fill-color);\n",
              "      border-top-color: var(--fill-color);\n",
              "      border-right-color: var(--fill-color);\n",
              "    }\n",
              "    40% {\n",
              "      border-color: transparent;\n",
              "      border-right-color: var(--fill-color);\n",
              "      border-top-color: var(--fill-color);\n",
              "    }\n",
              "    60% {\n",
              "      border-color: transparent;\n",
              "      border-right-color: var(--fill-color);\n",
              "    }\n",
              "    80% {\n",
              "      border-color: transparent;\n",
              "      border-right-color: var(--fill-color);\n",
              "      border-bottom-color: var(--fill-color);\n",
              "    }\n",
              "    90% {\n",
              "      border-color: transparent;\n",
              "      border-bottom-color: var(--fill-color);\n",
              "    }\n",
              "  }\n",
              "</style>\n",
              "\n",
              "  <script>\n",
              "    async function quickchart(key) {\n",
              "      const quickchartButtonEl =\n",
              "        document.querySelector('#' + key + ' button');\n",
              "      quickchartButtonEl.disabled = true;  // To prevent multiple clicks.\n",
              "      quickchartButtonEl.classList.add('colab-df-spinner');\n",
              "      try {\n",
              "        const charts = await google.colab.kernel.invokeFunction(\n",
              "            'suggestCharts', [key], {});\n",
              "      } catch (error) {\n",
              "        console.error('Error during call to suggestCharts:', error);\n",
              "      }\n",
              "      quickchartButtonEl.classList.remove('colab-df-spinner');\n",
              "      quickchartButtonEl.classList.add('colab-df-quickchart-complete');\n",
              "    }\n",
              "    (() => {\n",
              "      let quickchartButtonEl =\n",
              "        document.querySelector('#df-74f6e585-5620-4de0-ac72-66e5aa18c0d2 button');\n",
              "      quickchartButtonEl.style.display =\n",
              "        google.colab.kernel.accessAllowed ? 'block' : 'none';\n",
              "    })();\n",
              "  </script>\n",
              "</div>\n",
              "    </div>\n",
              "  </div>\n"
            ],
            "text/plain": [
              "    SNo     Name Symbol                 Date        High         Low  \\\n",
              "0     1  Bitcoin    BTC  2013-04-29 23:59:59  147.488007  134.000000   \n",
              "1     2  Bitcoin    BTC  2013-04-30 23:59:59  146.929993  134.050003   \n",
              "2     3  Bitcoin    BTC  2013-05-01 23:59:59  139.889999  107.720001   \n",
              "3     4  Bitcoin    BTC  2013-05-02 23:59:59  125.599998   92.281898   \n",
              "4     5  Bitcoin    BTC  2013-05-03 23:59:59  108.127998   79.099998   \n",
              "5     6  Bitcoin    BTC  2013-05-04 23:59:59  115.000000   92.500000   \n",
              "6     7  Bitcoin    BTC  2013-05-05 23:59:59  118.800003  107.142998   \n",
              "7     8  Bitcoin    BTC  2013-05-06 23:59:59  124.663002  106.639999   \n",
              "8     9  Bitcoin    BTC  2013-05-07 23:59:59  113.444000   97.699997   \n",
              "9    10  Bitcoin    BTC  2013-05-08 23:59:59  115.779999  109.599998   \n",
              "10   11  Bitcoin    BTC  2013-05-09 23:59:59  113.459999  109.260002   \n",
              "11   12  Bitcoin    BTC  2013-05-10 23:59:59  122.000000  111.551003   \n",
              "\n",
              "          Open       Close  Volume     Marketcap  \n",
              "0   134.444000  144.539993     0.0  1.603769e+09  \n",
              "1   144.000000  139.000000     0.0  1.542813e+09  \n",
              "2   139.000000  116.989998     0.0  1.298955e+09  \n",
              "3   116.379997  105.209999     0.0  1.168517e+09  \n",
              "4   106.250000   97.750000     0.0  1.085995e+09  \n",
              "5    98.099998  112.500000     0.0  1.250317e+09  \n",
              "6   112.900002  115.910004     0.0  1.288693e+09  \n",
              "7   115.980003  112.300003     0.0  1.249023e+09  \n",
              "8   112.250000  111.500000     0.0  1.240594e+09  \n",
              "9   109.599998  113.566002     0.0  1.264049e+09  \n",
              "10  113.199997  112.669998     0.0  1.254535e+09  \n",
              "11  112.799004  117.199997     0.0  1.305479e+09  "
            ]
          },
          "execution_count": 16,
          "metadata": {},
          "output_type": "execute_result"
        }
      ],
      "source": [
        "dataset = pd.read_csv('./coin_Bitcoin.csv')\n",
        "dataset[:12]"
      ]
    },
    {
      "cell_type": "code",
      "execution_count": null,
      "metadata": {
        "colab": {
          "base_uri": "https://localhost:8080/",
          "height": 447
        },
        "id": "J3bp00hyHpRi",
        "outputId": "df2722b2-24cd-43fc-f41b-dcf60ed28d1c"
      },
      "outputs": [
        {
          "data": {
            "text/plain": [
              "<Axes: >"
            ]
          },
          "execution_count": 17,
          "metadata": {},
          "output_type": "execute_result"
        },
        {
          "data": {
            "image/png": "[encoded data removed]",
            "text/plain": [
              "<Figure size 640x480 with 1 Axes>"
            ]
          },
          "metadata": {},
          "output_type": "display_data"
        }
      ],
      "source": [
        "close_price = dataset['Close']\n",
        "close_price.plot()"
      ]
    },
    {
      "cell_type": "code",
      "execution_count": null,
      "metadata": {
        "id": "ZQ6IdAztJx6Y"
      },
      "outputs": [],
      "source": [
        "#  [[[1], [2], [3], [4], [5]]], [6]\n",
        "\n",
        "def create_X_Y(close_price, window_size=5):\n",
        "\n",
        "  X = []\n",
        "  y = []\n",
        "\n",
        "  for i in range(len(close_price) - window_size):\n",
        "    row = [[a] for a in close_price[i:i+window_size]]\n",
        "    X.append(row)\n",
        "\n",
        "    y.append(close_price[i + window_size])\n",
        "\n",
        "  return np.array(X), np.array(y)\n",
        "\n"
      ]
    },
    {
      "cell_type": "code",
      "execution_count": null,
      "metadata": {
        "colab": {
          "base_uri": "https://localhost:8080/"
        },
        "id": "5e33xMs3Sdqo",
        "outputId": "63505534-ace4-4597-e915-59c348c9f4d3"
      },
      "outputs": [
        {
          "output_type": "execute_result",
          "data": {
            "text/plain": [
              "(array([[[144.53999329],\n",
              "         [139.        ],\n",
              "         [116.98999786],\n",
              "         [105.20999908],\n",
              "         [ 97.75      ],\n",
              "         [112.5       ],\n",
              "         [115.91000366],\n",
              "         [112.30000305],\n",
              "         [111.5       ],\n",
              "         [113.56600189]],\n",
              " \n",
              "        [[139.        ],\n",
              "         [116.98999786],\n",
              "         [105.20999908],\n",
              "         [ 97.75      ],\n",
              "         [112.5       ],\n",
              "         [115.91000366],\n",
              "         [112.30000305],\n",
              "         [111.5       ],\n",
              "         [113.56600189],\n",
              "         [112.66999817]]]),\n",
              " array([112.66999817, 117.19999695]))"
            ]
          },
          "metadata": {},
          "execution_count": 38
        }
      ],
      "source": [
        "WINDOW_SIZE = 10\n",
        "X, Y = create_X_Y(close_price, WINDOW_SIZE)\n",
        "\n",
        "X[:2], Y[:2]"
      ]
    },
    {
      "cell_type": "code",
      "execution_count": null,
      "metadata": {
        "id": "yevmU0huUfP4"
      },
      "outputs": [],
      "source": [
        "X_train, X_val, X_test = X[:2400], X[2400:2700], X[2700:]\n",
        "Y_train, Y_val, Y_test = Y[:2400], Y[2400:2700], Y[2700:]\n"
      ]
    },
    {
      "cell_type": "code",
      "execution_count": null,
      "metadata": {
        "id": "MHnIGx9GU82G"
      },
      "outputs": [],
      "source": [
        "from tensorflow.keras.models import Sequential\n",
        "from tensorflow.keras.layers import *\n",
        "from tensorflow.keras.optimizers import Adam\n",
        "from tensorflow.keras.callbacks import ModelCheckpoint\n",
        "from tensorflow.keras.losses import MeanSquaredError\n",
        "from tensorflow.keras.metrics import RootMeanSquaredError\n"
      ]
    },
    {
      "cell_type": "code",
      "execution_count": null,
      "metadata": {
        "colab": {
          "base_uri": "https://localhost:8080/"
        },
        "id": "oTSvJmdaYQNg",
        "outputId": "46b2e356-8d7f-453a-c3f8-f57115cbcfa1"
      },
      "outputs": [
        {
          "output_type": "stream",
          "name": "stdout",
          "text": [
            "Model: \"sequential_2\"\n",
            "_________________________________________________________________\n",
            " Layer (type)                Output Shape              Param #   \n",
            "=================================================================\n",
            " lstm_2 (LSTM)               (None, 64)                16896     \n",
            "                                                                 \n",
            " dense_4 (Dense)             (None, 8)                 520       \n",
            "                                                                 \n",
            " dense_5 (Dense)             (None, 1)                 9         \n",
            "                                                                 \n",
            "=================================================================\n",
            "Total params: 17425 (68.07 KB)\n",
            "Trainable params: 17425 (68.07 KB)\n",
            "Non-trainable params: 0 (0.00 Byte)\n",
            "_________________________________________________________________\n"
          ]
        }
      ],
      "source": [
        "model = Sequential()\n",
        "model.add(InputLayer((WINDOW_SIZE, 1)))\n",
        "model.add(LSTM(64))\n",
        "model.add(Dense(8, 'relu'))\n",
        "model.add(Dense(1, 'linear')) # anothe activation function seems better\n",
        "model.summary()"
      ]
    },
    {
      "cell_type": "code",
      "execution_count": null,
      "metadata": {
        "id": "6ISRmdXeZhVI"
      },
      "outputs": [],
      "source": [
        "\n",
        "cp = ModelCheckpoint('model/' ,save_best_only=True)\n",
        "model.compile(optimizer=Adam(learning_rate=0.003), loss=MeanSquaredError(), metrics=[RootMeanSquaredError()])"
      ]
    },
    {
      "cell_type": "code",
      "execution_count": null,
      "metadata": {
        "colab": {
          "base_uri": "https://localhost:8080/"
        },
        "id": "EfsLLNYRPMiF",
        "outputId": "8415785d-5c4c-4e9b-e9ae-1fb92cd90233"
      },
      "outputs": [
        {
          "output_type": "stream",
          "name": "stdout",
          "text": [
            "Epoch 1/10\n",
            "75/75 [==============================] - 6s 50ms/step - loss: 23424848.0000 - root_mean_squared_error: 4839.9224 - val_loss: 83432928.0000 - val_root_mean_squared_error: 9134.1631\n",
            "Epoch 2/10\n",
            "75/75 [==============================] - 4s 56ms/step - loss: 23270194.0000 - root_mean_squared_error: 4823.9189 - val_loss: 82727360.0000 - val_root_mean_squared_error: 9095.4580\n",
            "Epoch 3/10\n",
            "75/75 [==============================] - 3s 44ms/step - loss: 22965942.0000 - root_mean_squared_error: 4792.2793 - val_loss: 81572320.0000 - val_root_mean_squared_error: 9031.7393\n",
            "Epoch 4/10\n",
            "75/75 [==============================] - 3s 42ms/step - loss: 22520686.0000 - root_mean_squared_error: 4745.5967 - val_loss: 80035000.0000 - val_root_mean_squared_error: 8946.2285\n",
            "Epoch 5/10\n",
            "75/75 [==============================] - 4s 60ms/step - loss: 21967386.0000 - root_mean_squared_error: 4686.9380 - val_loss: 78132896.0000 - val_root_mean_squared_error: 8839.2812\n",
            "Epoch 6/10\n",
            "75/75 [==============================] - 3s 45ms/step - loss: 21293270.0000 - root_mean_squared_error: 4614.4629 - val_loss: 75540488.0000 - val_root_mean_squared_error: 8691.4033\n",
            "Epoch 7/10\n",
            "75/75 [==============================] - 3s 43ms/step - loss: 20266010.0000 - root_mean_squared_error: 4501.7783 - val_loss: 71571792.0000 - val_root_mean_squared_error: 8460.0107\n",
            "Epoch 8/10\n",
            "75/75 [==============================] - 4s 49ms/step - loss: 18982360.0000 - root_mean_squared_error: 4356.8750 - val_loss: 67092608.0000 - val_root_mean_squared_error: 8191.0078\n",
            "Epoch 9/10\n",
            "75/75 [==============================] - 4s 53ms/step - loss: 17625076.0000 - root_mean_squared_error: 4198.2227 - val_loss: 62667292.0000 - val_root_mean_squared_error: 7916.2676\n",
            "Epoch 10/10\n",
            "75/75 [==============================] - 3s 42ms/step - loss: 16319183.0000 - root_mean_squared_error: 4039.7009 - val_loss: 58096280.0000 - val_root_mean_squared_error: 7622.0918\n"
          ]
        },
        {
          "output_type": "execute_result",
          "data": {
            "text/plain": [
              "<keras.src.callbacks.History at 0x7b0d57a26920>"
            ]
          },
          "metadata": {},
          "execution_count": 43
        }
      ],
      "source": [
        "model.fit(X_train, Y_train, validation_data=(X_val, Y_val), epochs=10, callbacks=[cp])"
      ]
    },
    {
      "cell_type": "code",
      "execution_count": null,
      "metadata": {
        "id": "bD5J10aePk_m"
      },
      "outputs": [],
      "source": []
    }
  ],
  "metadata": {
    "accelerator": "GPU",
    "colab": {
      "provenance": []
    },
    "kernelspec": {
      "display_name": "Python 3",
      "name": "python3"
    },
    "language_info": {
      "name": "python"
    }
  },
  "nbformat": 4,
  "nbformat_minor": 0
}